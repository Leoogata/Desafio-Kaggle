{
 "cells": [
  {
   "cell_type": "markdown",
   "metadata": {},
   "source": [
    "# Previsão dos Hits do Spotify"
   ]
  },
  {
   "cell_type": "markdown",
   "metadata": {},
   "source": [
    "##### Neste notebook é criado um algoritmo que com base nos arquivos fornecidos no kaggle faz uma previsão de qual será a próxima música popular no spotify"
   ]
  },
  {
   "cell_type": "markdown",
   "metadata": {},
   "source": [
    "## Importação das bibliotecas utilizadas no código"
   ]
  },
  {
   "cell_type": "code",
   "execution_count": 2,
   "metadata": {},
   "outputs": [],
   "source": [
    "import pandas as pd\n",
    "from sklearn.preprocessing import StandardScaler\n",
    "from sklearn.model_selection import train_test_split\n",
    "from sklearn.ensemble import RandomForestClassifier\n",
    "from sklearn.metrics import accuracy_score\n",
    "from sklearn.metrics import classification_report\n",
    "from sklearn.model_selection import GridSearchCV\n",
    "import xgboost as xgb\n",
    "import seaborn as sns\n",
    "import matplotlib.pyplot as plt"
   ]
  },
  {
   "cell_type": "markdown",
   "metadata": {},
   "source": [
    "## Importação dos dados"
   ]
  },
  {
   "cell_type": "code",
   "execution_count": 3,
   "metadata": {},
   "outputs": [],
   "source": [
    "#Importando dados\n",
    "treino = pd.read_csv('train.csv')\n",
    "teste = pd.read_csv('test.csv')"
   ]
  },
  {
   "cell_type": "markdown",
   "metadata": {},
   "source": [
    "## Análise dos dados"
   ]
  },
  {
   "cell_type": "code",
   "execution_count": null,
   "metadata": {},
   "outputs": [],
   "source": [
    "#Fazendo análise dos dados de treino\n",
    "treino.head()"
   ]
  },
  {
   "cell_type": "code",
   "execution_count": null,
   "metadata": {},
   "outputs": [],
   "source": [
    "#Fazendo análise dos dados de treino\n",
    "teste.head()"
   ]
  },
  {
   "cell_type": "code",
   "execution_count": null,
   "metadata": {},
   "outputs": [],
   "source": [
    "#Analisando informações gerais dos dados de treino\n",
    "treino.info()"
   ]
  },
  {
   "cell_type": "code",
   "execution_count": null,
   "metadata": {},
   "outputs": [],
   "source": [
    "#Verificando a existênia de dados nulos no conjunto de treino\n",
    "treino.isnull().sum()       "
   ]
  },
  {
   "cell_type": "code",
   "execution_count": null,
   "metadata": {},
   "outputs": [],
   "source": [
    "#Verificando a existênia de dados nulos no conjunto de teste\n",
    "teste.isnull().sum()"
   ]
  },
  {
   "cell_type": "markdown",
   "metadata": {},
   "source": [
    "## Limpeza e tratamento dos dados"
   ]
  },
  {
   "cell_type": "markdown",
   "metadata": {},
   "source": [
    "### Tratamento dos valores nulos"
   ]
  },
  {
   "cell_type": "code",
   "execution_count": null,
   "metadata": {},
   "outputs": [],
   "source": [
    "# Tratando valores nulos preenchendo com strings vazia para colunas categóricas\n",
    "teste['artists'].fillna('', inplace=True)\n",
    "teste['album_name'].fillna('', inplace=True)\n",
    "teste['track_name'].fillna('', inplace=True)"
   ]
  },
  {
   "cell_type": "markdown",
   "metadata": {},
   "source": [
    "### Codificação das variáveis categóricas"
   ]
  },
  {
   "cell_type": "code",
   "execution_count": 10,
   "metadata": {},
   "outputs": [],
   "source": [
    "# Codificando variáveis categóricas explicit e mode no dataset treino e teste\n",
    "treino['explicit'] = treino['explicit'].astype('category')\n",
    "treino['mode'] = treino['mode'].astype('category')\n",
    "\n",
    "teste['explicit'] = teste['explicit'].astype('category')\n",
    "teste['mode'] = teste['mode'].astype('category')\n",
    "\n",
    "#Convertendo explicit e mode para variáveis numéricas\n",
    "treino['explicit'] = treino['explicit'].cat.codes\n",
    "treino['mode'] = treino['mode'].cat.codes\n",
    "\n",
    "teste['explicit'] = teste['explicit'].cat.codes\n",
    "teste['mode'] = teste['mode'].cat.codes"
   ]
  },
  {
   "cell_type": "markdown",
   "metadata": {},
   "source": [
    "### Confirmação do tratamento"
   ]
  },
  {
   "cell_type": "code",
   "execution_count": null,
   "metadata": {},
   "outputs": [],
   "source": [
    "#Verificando a coficação no conjunto de treino\n",
    "treino[['explicit', 'mode']].head()"
   ]
  },
  {
   "cell_type": "code",
   "execution_count": null,
   "metadata": {},
   "outputs": [],
   "source": [
    "#Verificando a coficação no conjunto de teste\n",
    "teste[['explicit', 'mode']].head()"
   ]
  },
  {
   "cell_type": "markdown",
   "metadata": {},
   "source": [
    "### Normalização dos dados"
   ]
  },
  {
   "cell_type": "code",
   "execution_count": 13,
   "metadata": {},
   "outputs": [],
   "source": [
    "#Aplicar escalonaento nos dados numéricos\n",
    "scaler = StandardScaler()\n",
    "\n",
    "colunas_numericas = ['duration_ms', 'danceability', 'energy', 'loudness', 'speechiness', 'acousticness', 'instrumentalness', 'liveness', 'valence', 'tempo']\n",
    "\n",
    "treino[colunas_numericas] = scaler.fit_transform(treino[colunas_numericas])\n",
    "teste[colunas_numericas] = scaler.transform(teste[colunas_numericas])\n"
   ]
  },
  {
   "cell_type": "markdown",
   "metadata": {},
   "source": [
    "### Codificação das variáveis categóricas"
   ]
  },
  {
   "cell_type": "code",
   "execution_count": 14,
   "metadata": {},
   "outputs": [],
   "source": [
    "# Codificando variáveis categóricas explicit e mode no dataset treino e teste\n",
    "treino['track_genre'] = treino['track_genre'].astype('category').cat.codes\n",
    "teste['track_genre'] = teste['track_genre'].astype('category').cat.codes\n"
   ]
  },
  {
   "cell_type": "code",
   "execution_count": null,
   "metadata": {},
   "outputs": [],
   "source": [
    "#Verificando a coficação no conjunto de treino\n",
    "treino[colunas_numericas + ['track_genre']].head()"
   ]
  },
  {
   "cell_type": "code",
   "execution_count": null,
   "metadata": {},
   "outputs": [],
   "source": [
    "#Verificando a coficação no conjunto de teste\n",
    "teste[colunas_numericas + ['track_genre']].head()"
   ]
  },
  {
   "cell_type": "markdown",
   "metadata": {},
   "source": [
    "## Exploração dos dados"
   ]
  },
  {
   "cell_type": "code",
   "execution_count": null,
   "metadata": {},
   "outputs": [],
   "source": [
    "#Observando a correlação das variáveis para formulação de hipóteses\n",
    "corr_matrix = treino[colunas_numericas + ['popularity_target']].corr()\n",
    "\n",
    "# Exibir um heatmap das correlações\n",
    "plt.figure(figsize=(9, 6))\n",
    "sns.heatmap(corr_matrix, annot=True, cmap='coolwarm', fmt='.2f')\n",
    "plt.title('Correlação das variáveis')\n",
    "plt.show()\n"
   ]
  },
  {
   "cell_type": "markdown",
   "metadata": {},
   "source": [
    "# Hipóteses"
   ]
  },
  {
   "cell_type": "markdown",
   "metadata": {},
   "source": [
    "Primeira Hipótese: Gêneros influenciam na popularidade da música \n",
    "\n",
    "Justificativa: Existem certos gêneros que tendem a fazer mais sucesso"
   ]
  },
  {
   "cell_type": "code",
   "execution_count": null,
   "metadata": {},
   "outputs": [],
   "source": [
    "genre_popularity = treino.groupby('track_genre')['popularity_target'].mean().sort_values(ascending=False)\n",
    "\n",
    "# Selecionando os 20 gêneros de música mais populares\n",
    "top_20_genres = genre_popularity.head(20)\n",
    "\n",
    "# Plotando os 20 gêneros mais populares e suas popularidades\n",
    "plt.figure(figsize=(10, 6))\n",
    "top_20_genres.plot(kind='bar', color='orange')\n",
    "\n",
    "# Adicionando título e legendas\n",
    "plt.title('Top 20 gêneros mais populares', fontsize=14)\n",
    "plt.xlabel('Gênero Musical', fontsize=12)\n",
    "plt.ylabel('Popularidade Média', fontsize=12)\n",
    "\n",
    "# Rotacionando eixo x\n",
    "plt.xticks(rotation=45)\n",
    "\n",
    "# Plotando gráfico\n",
    "plt.tight_layout()\n",
    "plt.show()"
   ]
  },
  {
   "cell_type": "markdown",
   "metadata": {},
   "source": [
    "Esse gráfico mostra que existem gêneros mais populares e que músicas desse gêneros, portanto, possuem uma maior possibilidade de fazerem sucesso."
   ]
  },
  {
   "cell_type": "markdown",
   "metadata": {},
   "source": [
    "Segunda Hipótese: Músicas com maior volume fazem mais sucesso \n",
    "\n",
    "Justificativa: Músicas com maior volume geralmente são músicas mais voltadas para o público portanto tendem a fazer mais sucesso"
   ]
  },
  {
   "cell_type": "code",
   "execution_count": null,
   "metadata": {},
   "outputs": [],
   "source": [
    "# Filtrando músicas populares (definindo como popular aquelas com popularidade maior que uma certa nota, por exemplo 1)\n",
    "musicas_populares = treino[treino['popularity_target'] == 1]\n",
    "\n",
    "# Criando um histograma para volume (loudness) das músicas populares\n",
    "plt.figure(figsize=(8, 6))\n",
    "plt.hist(musicas_populares['loudness'], bins=20, color='green', edgecolor='black')\n",
    "\n",
    "# Adicionando título e rótulos\n",
    "plt.title('Quantidade de Músicas Populares por Intervalo de Volume', fontsize=14)\n",
    "plt.xlabel('Volume (dB)', fontsize=12)\n",
    "plt.ylabel('Quantidade de Músicas', fontsize=12)\n",
    "\n",
    "# Exibindo o gráfico\n",
    "plt.tight_layout()\n",
    "plt.show()"
   ]
  },
  {
   "cell_type": "markdown",
   "metadata": {},
   "source": [
    "Esse gráfico demonstra que a maior parte das músicas populares são as de maior volume no gráfico"
   ]
  },
  {
   "cell_type": "markdown",
   "metadata": {},
   "source": [
    "Terceira Hipótese: Músicas mais energéticas tendem a ser mais sucesso\n",
    "\n",
    "Justificativa: Músicas mais energéticas são comumente produzidas para serem tocadas em festas o que as da uma maior chance de se tornarem populares"
   ]
  },
  {
   "cell_type": "code",
   "execution_count": null,
   "metadata": {},
   "outputs": [],
   "source": [
    "# Filtrando músicas populares (definindo como populares aquelas com popularidade maior que uma certa nota, por exemplo, 1)\n",
    "musicas_populares = treino[treino['popularity_target'] == 1]\n",
    "\n",
    "# Criando um histograma para a energia das músicas populares\n",
    "plt.figure(figsize=(8, 6))\n",
    "plt.hist(musicas_populares['energy'], bins=20, color='orange', edgecolor='black')\n",
    "\n",
    "# Adicionando título e rótulos\n",
    "plt.title('Quantidade de Músicas Populares por Intervalo de Energia', fontsize=14)\n",
    "plt.xlabel('Energia', fontsize=12)\n",
    "plt.ylabel('Quantidade de Músicas', fontsize=12)\n",
    "\n",
    "# Exibindo o gráfico\n",
    "plt.tight_layout()\n",
    "plt.show()"
   ]
  },
  {
   "cell_type": "markdown",
   "metadata": {},
   "source": [
    "Esse gráfico demonstra que a maior parte das músicas populares são as de maior energia "
   ]
  },
  {
   "cell_type": "markdown",
   "metadata": {},
   "source": [
    "## Seleção de features"
   ]
  },
  {
   "cell_type": "code",
   "execution_count": 21,
   "metadata": {},
   "outputs": [],
   "source": [
    "#Separando as features e o alvo\n",
    "X = treino.drop(columns=['popularity_target', 'track_unique_id', 'track_id', 'artists', 'album_name', 'track_name'])\n",
    "y= treino['popularity_target']"
   ]
  },
  {
   "cell_type": "markdown",
   "metadata": {},
   "source": [
    "## Construção e Avaliação do Modelo"
   ]
  },
  {
   "cell_type": "code",
   "execution_count": 22,
   "metadata": {},
   "outputs": [],
   "source": [
    "#instaciando o modelo\n",
    "xgb_model = xgb.XGBClassifier(use_label_encoder=False, eval_metric='mlogloss')"
   ]
  },
  {
   "cell_type": "code",
   "execution_count": 23,
   "metadata": {},
   "outputs": [],
   "source": [
    "# Dividindo treino e validação\n",
    "X_train, X_val, y_train, y_val = train_test_split(X, y, test_size=0.2, random_state=42)"
   ]
  },
  {
   "cell_type": "code",
   "execution_count": 24,
   "metadata": {},
   "outputs": [],
   "source": [
    "# Convertendo os dados para o formato DMatrix do XGBoost\n",
    "dados_treino = xgb.DMatrix(X_train, label=y_train)\n",
    "dados_teste = xgb.DMatrix(X_val, label=y_val)"
   ]
  },
  {
   "cell_type": "code",
   "execution_count": 25,
   "metadata": {},
   "outputs": [],
   "source": [
    "# Definindo os parâmetros do XGBoost\n",
    "params = {\n",
    "    'objective': 'multi:softmax',  # Multiclass classification\n",
    "    'num_class': 3,  # Número de classes\n",
    "    'max_depth': 15,  # Profundidade da árvore\n",
    "    'eta': 0.3,  # Taxa de aprendizado\n",
    "    'eval_metric': 'mlogloss'  # Métrica de avaliação\n",
    "}"
   ]
  },
  {
   "cell_type": "code",
   "execution_count": null,
   "metadata": {},
   "outputs": [],
   "source": [
    "# Treinando o modelo\n",
    "model = xgb.train(params, dados_treino, num_boost_round=100)\n",
    "\n",
    "# Fazendo previsões\n",
    "previsoes = model.predict(dados_teste)\n",
    "\n",
    "# Avaliando o modelo\n",
    "accuracy = accuracy_score(y_val, previsoes)\n",
    "print(f'Acurácia: {accuracy * 100:.2f}%')"
   ]
  },
  {
   "cell_type": "code",
   "execution_count": null,
   "metadata": {},
   "outputs": [],
   "source": [
    "#Relatório de desempenho\n",
    "print(classification_report(y_val, previsoes))"
   ]
  },
  {
   "cell_type": "code",
   "execution_count": 28,
   "metadata": {},
   "outputs": [],
   "source": [
    "# Fazendo previsões com conjunto de teste\n",
    "X_teste = teste.drop(columns=['track_unique_id', 'track_id', 'artists', 'album_name', 'track_name'])\n",
    "# Convertendo os dados para o formato DMatrix do XGBoost\n",
    "dteste = xgb.DMatrix(X_teste)\n",
    "\n",
    "previsoes_teste = model.predict(dteste)\n",
    "\n",
    "# Gerar arquivo CSV para submissão\n",
    "submission = teste[['track_unique_id']].copy()\n",
    "submission['popularity_target'] = previsoes_teste\n",
    "submission.to_csv('submission.csv', index=False)"
   ]
  },
  {
   "cell_type": "markdown",
   "metadata": {},
   "source": [
    "## Finetuning de Hiperparâmetros"
   ]
  },
  {
   "cell_type": "code",
   "execution_count": null,
   "metadata": {},
   "outputs": [],
   "source": [
    "param_grid = {\n",
    "    'n_estimators': [100, 200],\n",
    "    'max_depth': [10, 20, None]\n",
    "}\n",
    "\n",
    "grid_search = GridSearchCV(xgb_model, param_grid, cv=5, scoring='accuracy')\n",
    "grid_search.fit(X_train, y_train)\n",
    "\n",
    "print(f'Melhores parâmetros: {grid_search.best_params_}')"
   ]
  },
  {
   "cell_type": "markdown",
   "metadata": {},
   "source": [
    "## Métricas do modelo"
   ]
  },
  {
   "cell_type": "code",
   "execution_count": null,
   "metadata": {},
   "outputs": [],
   "source": [
    "# Previsões no conjunto de validação usando o melhor modelo encontrado\n",
    "best_model = grid_search.best_estimator_\n",
    "y_pred = best_model.predict(X_val)\n",
    "\n",
    "# Calcular a acurácia\n",
    "accuracy = accuracy_score(y_val, y_pred)\n",
    "print(f'Acurácia com o modelo otimizado: {accuracy:.2f}')\n",
    "\n",
    "# Exibir outras métricas de avaliação\n",
    "print(\"Relatório de Classificação:\\n\", classification_report(y_val, y_pred))"
   ]
  }
 ],
 "metadata": {
  "kernelspec": {
   "display_name": "Python 3",
   "language": "python",
   "name": "python3"
  },
  "language_info": {
   "codemirror_mode": {
    "name": "ipython",
    "version": 3
   },
   "file_extension": ".py",
   "mimetype": "text/x-python",
   "name": "python",
   "nbconvert_exporter": "python",
   "pygments_lexer": "ipython3",
   "version": "3.12.4"
  }
 },
 "nbformat": 4,
 "nbformat_minor": 2
}
