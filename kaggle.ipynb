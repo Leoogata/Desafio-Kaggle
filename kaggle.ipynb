{
 "cells": [
  {
   "cell_type": "markdown",
   "metadata": {},
   "source": [
    "# Previsão dos Hits do Spotify"
   ]
  },
  {
   "cell_type": "markdown",
   "metadata": {},
   "source": [
    "##### Neste notebook é criado um algoritmo que com base nos arquivos fornecidos no kaggle faz uma previsão de qual será a próxima música popular no spotify"
   ]
  },
  {
   "cell_type": "markdown",
   "metadata": {},
   "source": [
    "## Importação das bibliotecas utilizadas no código"
   ]
  },
  {
   "cell_type": "code",
   "execution_count": 2,
   "metadata": {},
   "outputs": [],
   "source": [
    "import pandas as pd\n",
    "from sklearn.preprocessing import StandardScaler\n",
    "from sklearn.model_selection import train_test_split\n",
    "from sklearn.ensemble import RandomForestClassifier\n",
    "from sklearn.metrics import accuracy_score\n",
    "from sklearn.metrics import classification_report\n",
    "from sklearn.model_selection import GridSearchCV\n",
    "import xgboost as xgb\n",
    "import seaborn as sns\n",
    "import matplotlib.pyplot as plt"
   ]
  },
  {
   "cell_type": "markdown",
   "metadata": {},
   "source": [
    "## Importação dos dados"
   ]
  },
  {
   "cell_type": "code",
   "execution_count": 3,
   "metadata": {},
   "outputs": [],
   "source": [
    "#Importando dados\n",
    "treino = pd.read_csv('train.csv')\n",
    "teste = pd.read_csv('test.csv')"
   ]
  },
  {
   "cell_type": "markdown",
   "metadata": {},
   "source": [
    "## Análise dos dados"
   ]
  },
  {
   "cell_type": "code",
   "execution_count": 4,
   "metadata": {},
   "outputs": [
    {
     "data": {
      "text/html": [
       "<div>\n",
       "<style scoped>\n",
       "    .dataframe tbody tr th:only-of-type {\n",
       "        vertical-align: middle;\n",
       "    }\n",
       "\n",
       "    .dataframe tbody tr th {\n",
       "        vertical-align: top;\n",
       "    }\n",
       "\n",
       "    .dataframe thead th {\n",
       "        text-align: right;\n",
       "    }\n",
       "</style>\n",
       "<table border=\"1\" class=\"dataframe\">\n",
       "  <thead>\n",
       "    <tr style=\"text-align: right;\">\n",
       "      <th></th>\n",
       "      <th>track_unique_id</th>\n",
       "      <th>track_id</th>\n",
       "      <th>artists</th>\n",
       "      <th>album_name</th>\n",
       "      <th>track_name</th>\n",
       "      <th>duration_ms</th>\n",
       "      <th>explicit</th>\n",
       "      <th>danceability</th>\n",
       "      <th>energy</th>\n",
       "      <th>key</th>\n",
       "      <th>...</th>\n",
       "      <th>mode</th>\n",
       "      <th>speechiness</th>\n",
       "      <th>acousticness</th>\n",
       "      <th>instrumentalness</th>\n",
       "      <th>liveness</th>\n",
       "      <th>valence</th>\n",
       "      <th>tempo</th>\n",
       "      <th>time_signature</th>\n",
       "      <th>track_genre</th>\n",
       "      <th>popularity_target</th>\n",
       "    </tr>\n",
       "  </thead>\n",
       "  <tbody>\n",
       "    <tr>\n",
       "      <th>0</th>\n",
       "      <td>41996</td>\n",
       "      <td>7hUhmkALyQ8SX9mJs5XI3D</td>\n",
       "      <td>Love and Rockets</td>\n",
       "      <td>Love and Rockets</td>\n",
       "      <td>Motorcycle</td>\n",
       "      <td>211533</td>\n",
       "      <td>False</td>\n",
       "      <td>0.305</td>\n",
       "      <td>0.8490</td>\n",
       "      <td>9</td>\n",
       "      <td>...</td>\n",
       "      <td>1</td>\n",
       "      <td>0.0549</td>\n",
       "      <td>0.000058</td>\n",
       "      <td>0.056700</td>\n",
       "      <td>0.4640</td>\n",
       "      <td>0.3200</td>\n",
       "      <td>141.793</td>\n",
       "      <td>4</td>\n",
       "      <td>goth</td>\n",
       "      <td>0</td>\n",
       "    </tr>\n",
       "    <tr>\n",
       "      <th>1</th>\n",
       "      <td>76471</td>\n",
       "      <td>5x59U89ZnjZXuNAAlc8X1u</td>\n",
       "      <td>Filippa Giordano</td>\n",
       "      <td>Filippa Giordano</td>\n",
       "      <td>Addio del passato - From \"La traviata\"</td>\n",
       "      <td>196000</td>\n",
       "      <td>False</td>\n",
       "      <td>0.287</td>\n",
       "      <td>0.1900</td>\n",
       "      <td>7</td>\n",
       "      <td>...</td>\n",
       "      <td>0</td>\n",
       "      <td>0.0370</td>\n",
       "      <td>0.930000</td>\n",
       "      <td>0.000356</td>\n",
       "      <td>0.0834</td>\n",
       "      <td>0.1330</td>\n",
       "      <td>83.685</td>\n",
       "      <td>4</td>\n",
       "      <td>opera</td>\n",
       "      <td>0</td>\n",
       "    </tr>\n",
       "    <tr>\n",
       "      <th>2</th>\n",
       "      <td>54809</td>\n",
       "      <td>70Vng5jLzoJLmeLu3ayBQq</td>\n",
       "      <td>Susumu Yokota</td>\n",
       "      <td>Symbol</td>\n",
       "      <td>Purple Rose Minuet</td>\n",
       "      <td>216506</td>\n",
       "      <td>False</td>\n",
       "      <td>0.583</td>\n",
       "      <td>0.5090</td>\n",
       "      <td>1</td>\n",
       "      <td>...</td>\n",
       "      <td>1</td>\n",
       "      <td>0.0362</td>\n",
       "      <td>0.777000</td>\n",
       "      <td>0.202000</td>\n",
       "      <td>0.1150</td>\n",
       "      <td>0.5440</td>\n",
       "      <td>90.459</td>\n",
       "      <td>3</td>\n",
       "      <td>idm</td>\n",
       "      <td>1</td>\n",
       "    </tr>\n",
       "    <tr>\n",
       "      <th>3</th>\n",
       "      <td>16326</td>\n",
       "      <td>1cRfzLJapgtwJ61xszs37b</td>\n",
       "      <td>Franz Liszt;YUNDI</td>\n",
       "      <td>Relajación y siestas</td>\n",
       "      <td>Liebeslied (Widmung), S. 566</td>\n",
       "      <td>218346</td>\n",
       "      <td>False</td>\n",
       "      <td>0.163</td>\n",
       "      <td>0.0368</td>\n",
       "      <td>8</td>\n",
       "      <td>...</td>\n",
       "      <td>1</td>\n",
       "      <td>0.0472</td>\n",
       "      <td>0.991000</td>\n",
       "      <td>0.899000</td>\n",
       "      <td>0.1070</td>\n",
       "      <td>0.0387</td>\n",
       "      <td>69.442</td>\n",
       "      <td>3</td>\n",
       "      <td>classical</td>\n",
       "      <td>0</td>\n",
       "    </tr>\n",
       "    <tr>\n",
       "      <th>4</th>\n",
       "      <td>109799</td>\n",
       "      <td>47d5lYjbiMy0EdMRV8lRou</td>\n",
       "      <td>Scooter</td>\n",
       "      <td>Scooter Forever</td>\n",
       "      <td>The Darkside</td>\n",
       "      <td>173160</td>\n",
       "      <td>False</td>\n",
       "      <td>0.647</td>\n",
       "      <td>0.9210</td>\n",
       "      <td>2</td>\n",
       "      <td>...</td>\n",
       "      <td>1</td>\n",
       "      <td>0.1850</td>\n",
       "      <td>0.000939</td>\n",
       "      <td>0.371000</td>\n",
       "      <td>0.1310</td>\n",
       "      <td>0.1710</td>\n",
       "      <td>137.981</td>\n",
       "      <td>4</td>\n",
       "      <td>techno</td>\n",
       "      <td>0</td>\n",
       "    </tr>\n",
       "  </tbody>\n",
       "</table>\n",
       "<p>5 rows × 21 columns</p>\n",
       "</div>"
      ],
      "text/plain": [
       "   track_unique_id                track_id            artists  \\\n",
       "0            41996  7hUhmkALyQ8SX9mJs5XI3D   Love and Rockets   \n",
       "1            76471  5x59U89ZnjZXuNAAlc8X1u   Filippa Giordano   \n",
       "2            54809  70Vng5jLzoJLmeLu3ayBQq      Susumu Yokota   \n",
       "3            16326  1cRfzLJapgtwJ61xszs37b  Franz Liszt;YUNDI   \n",
       "4           109799  47d5lYjbiMy0EdMRV8lRou            Scooter   \n",
       "\n",
       "             album_name                              track_name  duration_ms  \\\n",
       "0      Love and Rockets                              Motorcycle       211533   \n",
       "1      Filippa Giordano  Addio del passato - From \"La traviata\"       196000   \n",
       "2                Symbol                      Purple Rose Minuet       216506   \n",
       "3  Relajación y siestas            Liebeslied (Widmung), S. 566       218346   \n",
       "4       Scooter Forever                            The Darkside       173160   \n",
       "\n",
       "   explicit  danceability  energy  key  ...  mode  speechiness  acousticness  \\\n",
       "0     False         0.305  0.8490    9  ...     1       0.0549      0.000058   \n",
       "1     False         0.287  0.1900    7  ...     0       0.0370      0.930000   \n",
       "2     False         0.583  0.5090    1  ...     1       0.0362      0.777000   \n",
       "3     False         0.163  0.0368    8  ...     1       0.0472      0.991000   \n",
       "4     False         0.647  0.9210    2  ...     1       0.1850      0.000939   \n",
       "\n",
       "   instrumentalness  liveness  valence    tempo  time_signature  track_genre  \\\n",
       "0          0.056700    0.4640   0.3200  141.793               4         goth   \n",
       "1          0.000356    0.0834   0.1330   83.685               4        opera   \n",
       "2          0.202000    0.1150   0.5440   90.459               3          idm   \n",
       "3          0.899000    0.1070   0.0387   69.442               3    classical   \n",
       "4          0.371000    0.1310   0.1710  137.981               4       techno   \n",
       "\n",
       "  popularity_target  \n",
       "0                 0  \n",
       "1                 0  \n",
       "2                 1  \n",
       "3                 0  \n",
       "4                 0  \n",
       "\n",
       "[5 rows x 21 columns]"
      ]
     },
     "execution_count": 4,
     "metadata": {},
     "output_type": "execute_result"
    }
   ],
   "source": [
    "#Fazendo análise dos dados de treino\n",
    "treino.head()"
   ]
  },
  {
   "cell_type": "code",
   "execution_count": 5,
   "metadata": {},
   "outputs": [
    {
     "data": {
      "text/html": [
       "<div>\n",
       "<style scoped>\n",
       "    .dataframe tbody tr th:only-of-type {\n",
       "        vertical-align: middle;\n",
       "    }\n",
       "\n",
       "    .dataframe tbody tr th {\n",
       "        vertical-align: top;\n",
       "    }\n",
       "\n",
       "    .dataframe thead th {\n",
       "        text-align: right;\n",
       "    }\n",
       "</style>\n",
       "<table border=\"1\" class=\"dataframe\">\n",
       "  <thead>\n",
       "    <tr style=\"text-align: right;\">\n",
       "      <th></th>\n",
       "      <th>track_unique_id</th>\n",
       "      <th>track_id</th>\n",
       "      <th>artists</th>\n",
       "      <th>album_name</th>\n",
       "      <th>track_name</th>\n",
       "      <th>duration_ms</th>\n",
       "      <th>explicit</th>\n",
       "      <th>danceability</th>\n",
       "      <th>energy</th>\n",
       "      <th>key</th>\n",
       "      <th>loudness</th>\n",
       "      <th>mode</th>\n",
       "      <th>speechiness</th>\n",
       "      <th>acousticness</th>\n",
       "      <th>instrumentalness</th>\n",
       "      <th>liveness</th>\n",
       "      <th>valence</th>\n",
       "      <th>tempo</th>\n",
       "      <th>time_signature</th>\n",
       "      <th>track_genre</th>\n",
       "    </tr>\n",
       "  </thead>\n",
       "  <tbody>\n",
       "    <tr>\n",
       "      <th>0</th>\n",
       "      <td>113186</td>\n",
       "      <td>6KwkVtXm8OUp2XffN5k7lY</td>\n",
       "      <td>Hillsong Worship</td>\n",
       "      <td>No Other Name</td>\n",
       "      <td>No Other Name</td>\n",
       "      <td>440247</td>\n",
       "      <td>False</td>\n",
       "      <td>0.369</td>\n",
       "      <td>0.598</td>\n",
       "      <td>7</td>\n",
       "      <td>-6.984</td>\n",
       "      <td>1</td>\n",
       "      <td>0.0304</td>\n",
       "      <td>0.00511</td>\n",
       "      <td>0.000000</td>\n",
       "      <td>0.176</td>\n",
       "      <td>0.0466</td>\n",
       "      <td>148.014</td>\n",
       "      <td>4</td>\n",
       "      <td>world-music</td>\n",
       "    </tr>\n",
       "    <tr>\n",
       "      <th>1</th>\n",
       "      <td>42819</td>\n",
       "      <td>2dp5I5MJ8bQQHDoFaNRFtX</td>\n",
       "      <td>Internal Rot</td>\n",
       "      <td>Grieving Birth</td>\n",
       "      <td>Failed Organum</td>\n",
       "      <td>93933</td>\n",
       "      <td>False</td>\n",
       "      <td>0.171</td>\n",
       "      <td>0.997</td>\n",
       "      <td>7</td>\n",
       "      <td>-3.586</td>\n",
       "      <td>1</td>\n",
       "      <td>0.1180</td>\n",
       "      <td>0.00521</td>\n",
       "      <td>0.801000</td>\n",
       "      <td>0.420</td>\n",
       "      <td>0.0294</td>\n",
       "      <td>122.223</td>\n",
       "      <td>4</td>\n",
       "      <td>grindcore</td>\n",
       "    </tr>\n",
       "    <tr>\n",
       "      <th>2</th>\n",
       "      <td>59311</td>\n",
       "      <td>5avw06usmFkFrPjX8NxC40</td>\n",
       "      <td>Zhoobin Askarieh;Ali Sasha</td>\n",
       "      <td>Noise A Noise 20.4-1</td>\n",
       "      <td>Save the Trees, Pt. 1</td>\n",
       "      <td>213578</td>\n",
       "      <td>False</td>\n",
       "      <td>0.173</td>\n",
       "      <td>0.803</td>\n",
       "      <td>9</td>\n",
       "      <td>-10.071</td>\n",
       "      <td>0</td>\n",
       "      <td>0.1440</td>\n",
       "      <td>0.61300</td>\n",
       "      <td>0.001910</td>\n",
       "      <td>0.195</td>\n",
       "      <td>0.0887</td>\n",
       "      <td>75.564</td>\n",
       "      <td>3</td>\n",
       "      <td>iranian</td>\n",
       "    </tr>\n",
       "    <tr>\n",
       "      <th>3</th>\n",
       "      <td>91368</td>\n",
       "      <td>75hT0hvlESnDJstem0JgyR</td>\n",
       "      <td>Bryan Adams</td>\n",
       "      <td>All I Want For Christmas Is You</td>\n",
       "      <td>Merry Christmas</td>\n",
       "      <td>151387</td>\n",
       "      <td>False</td>\n",
       "      <td>0.683</td>\n",
       "      <td>0.511</td>\n",
       "      <td>6</td>\n",
       "      <td>-5.598</td>\n",
       "      <td>1</td>\n",
       "      <td>0.0279</td>\n",
       "      <td>0.40600</td>\n",
       "      <td>0.000197</td>\n",
       "      <td>0.111</td>\n",
       "      <td>0.5980</td>\n",
       "      <td>109.991</td>\n",
       "      <td>3</td>\n",
       "      <td>rock</td>\n",
       "    </tr>\n",
       "    <tr>\n",
       "      <th>4</th>\n",
       "      <td>61000</td>\n",
       "      <td>4bY2oZGA5Br3pTE1Jd1IfY</td>\n",
       "      <td>Nogizaka46</td>\n",
       "      <td>バレッタ TypeD</td>\n",
       "      <td>月の大きさ</td>\n",
       "      <td>236293</td>\n",
       "      <td>False</td>\n",
       "      <td>0.555</td>\n",
       "      <td>0.941</td>\n",
       "      <td>9</td>\n",
       "      <td>-3.294</td>\n",
       "      <td>0</td>\n",
       "      <td>0.0481</td>\n",
       "      <td>0.48400</td>\n",
       "      <td>0.000000</td>\n",
       "      <td>0.266</td>\n",
       "      <td>0.8130</td>\n",
       "      <td>92.487</td>\n",
       "      <td>4</td>\n",
       "      <td>j-idol</td>\n",
       "    </tr>\n",
       "  </tbody>\n",
       "</table>\n",
       "</div>"
      ],
      "text/plain": [
       "   track_unique_id                track_id                     artists  \\\n",
       "0           113186  6KwkVtXm8OUp2XffN5k7lY            Hillsong Worship   \n",
       "1            42819  2dp5I5MJ8bQQHDoFaNRFtX                Internal Rot   \n",
       "2            59311  5avw06usmFkFrPjX8NxC40  Zhoobin Askarieh;Ali Sasha   \n",
       "3            91368  75hT0hvlESnDJstem0JgyR                 Bryan Adams   \n",
       "4            61000  4bY2oZGA5Br3pTE1Jd1IfY                  Nogizaka46   \n",
       "\n",
       "                        album_name             track_name  duration_ms  \\\n",
       "0                    No Other Name          No Other Name       440247   \n",
       "1                   Grieving Birth         Failed Organum        93933   \n",
       "2             Noise A Noise 20.4-1  Save the Trees, Pt. 1       213578   \n",
       "3  All I Want For Christmas Is You        Merry Christmas       151387   \n",
       "4                       バレッタ TypeD                  月の大きさ       236293   \n",
       "\n",
       "   explicit  danceability  energy  key  loudness  mode  speechiness  \\\n",
       "0     False         0.369   0.598    7    -6.984     1       0.0304   \n",
       "1     False         0.171   0.997    7    -3.586     1       0.1180   \n",
       "2     False         0.173   0.803    9   -10.071     0       0.1440   \n",
       "3     False         0.683   0.511    6    -5.598     1       0.0279   \n",
       "4     False         0.555   0.941    9    -3.294     0       0.0481   \n",
       "\n",
       "   acousticness  instrumentalness  liveness  valence    tempo  time_signature  \\\n",
       "0       0.00511          0.000000     0.176   0.0466  148.014               4   \n",
       "1       0.00521          0.801000     0.420   0.0294  122.223               4   \n",
       "2       0.61300          0.001910     0.195   0.0887   75.564               3   \n",
       "3       0.40600          0.000197     0.111   0.5980  109.991               3   \n",
       "4       0.48400          0.000000     0.266   0.8130   92.487               4   \n",
       "\n",
       "   track_genre  \n",
       "0  world-music  \n",
       "1    grindcore  \n",
       "2      iranian  \n",
       "3         rock  \n",
       "4       j-idol  "
      ]
     },
     "execution_count": 5,
     "metadata": {},
     "output_type": "execute_result"
    }
   ],
   "source": [
    "#Fazendo análise dos dados de treino\n",
    "teste.head()"
   ]
  },
  {
   "cell_type": "code",
   "execution_count": 6,
   "metadata": {},
   "outputs": [
    {
     "name": "stdout",
     "output_type": "stream",
     "text": [
      "<class 'pandas.core.frame.DataFrame'>\n",
      "RangeIndex: 79800 entries, 0 to 79799\n",
      "Data columns (total 21 columns):\n",
      " #   Column             Non-Null Count  Dtype  \n",
      "---  ------             --------------  -----  \n",
      " 0   track_unique_id    79800 non-null  int64  \n",
      " 1   track_id           79800 non-null  object \n",
      " 2   artists            79800 non-null  object \n",
      " 3   album_name         79800 non-null  object \n",
      " 4   track_name         79800 non-null  object \n",
      " 5   duration_ms        79800 non-null  int64  \n",
      " 6   explicit           79800 non-null  bool   \n",
      " 7   danceability       79800 non-null  float64\n",
      " 8   energy             79800 non-null  float64\n",
      " 9   key                79800 non-null  int64  \n",
      " 10  loudness           79800 non-null  float64\n",
      " 11  mode               79800 non-null  int64  \n",
      " 12  speechiness        79800 non-null  float64\n",
      " 13  acousticness       79800 non-null  float64\n",
      " 14  instrumentalness   79800 non-null  float64\n",
      " 15  liveness           79800 non-null  float64\n",
      " 16  valence            79800 non-null  float64\n",
      " 17  tempo              79800 non-null  float64\n",
      " 18  time_signature     79800 non-null  int64  \n",
      " 19  track_genre        79800 non-null  object \n",
      " 20  popularity_target  79800 non-null  int64  \n",
      "dtypes: bool(1), float64(9), int64(6), object(5)\n",
      "memory usage: 12.3+ MB\n"
     ]
    }
   ],
   "source": [
    "#Analisando informações gerais dos dados de treino\n",
    "treino.info()"
   ]
  },
  {
   "cell_type": "code",
   "execution_count": 7,
   "metadata": {},
   "outputs": [
    {
     "data": {
      "text/plain": [
       "track_unique_id      0\n",
       "track_id             0\n",
       "artists              0\n",
       "album_name           0\n",
       "track_name           0\n",
       "duration_ms          0\n",
       "explicit             0\n",
       "danceability         0\n",
       "energy               0\n",
       "key                  0\n",
       "loudness             0\n",
       "mode                 0\n",
       "speechiness          0\n",
       "acousticness         0\n",
       "instrumentalness     0\n",
       "liveness             0\n",
       "valence              0\n",
       "tempo                0\n",
       "time_signature       0\n",
       "track_genre          0\n",
       "popularity_target    0\n",
       "dtype: int64"
      ]
     },
     "execution_count": 7,
     "metadata": {},
     "output_type": "execute_result"
    }
   ],
   "source": [
    "#Verificando a existênia de dados nulos no conjunto de treino\n",
    "treino.isnull().sum()       "
   ]
  },
  {
   "cell_type": "code",
   "execution_count": 8,
   "metadata": {},
   "outputs": [
    {
     "data": {
      "text/plain": [
       "track_unique_id     0\n",
       "track_id            0\n",
       "artists             1\n",
       "album_name          1\n",
       "track_name          1\n",
       "duration_ms         0\n",
       "explicit            0\n",
       "danceability        0\n",
       "energy              0\n",
       "key                 0\n",
       "loudness            0\n",
       "mode                0\n",
       "speechiness         0\n",
       "acousticness        0\n",
       "instrumentalness    0\n",
       "liveness            0\n",
       "valence             0\n",
       "tempo               0\n",
       "time_signature      0\n",
       "track_genre         0\n",
       "dtype: int64"
      ]
     },
     "execution_count": 8,
     "metadata": {},
     "output_type": "execute_result"
    }
   ],
   "source": [
    "#Verificando a existênia de dados nulos no conjunto de teste\n",
    "teste.isnull().sum()"
   ]
  },
  {
   "cell_type": "markdown",
   "metadata": {},
   "source": [
    "## Limpeza e tratamento dos dados"
   ]
  },
  {
   "cell_type": "markdown",
   "metadata": {},
   "source": [
    "### Tratamento dos valores nulos"
   ]
  },
  {
   "cell_type": "code",
   "execution_count": 9,
   "metadata": {},
   "outputs": [
    {
     "name": "stderr",
     "output_type": "stream",
     "text": [
      "C:\\Users\\leona\\AppData\\Local\\Temp\\ipykernel_21604\\1972323681.py:2: FutureWarning: A value is trying to be set on a copy of a DataFrame or Series through chained assignment using an inplace method.\n",
      "The behavior will change in pandas 3.0. This inplace method will never work because the intermediate object on which we are setting values always behaves as a copy.\n",
      "\n",
      "For example, when doing 'df[col].method(value, inplace=True)', try using 'df.method({col: value}, inplace=True)' or df[col] = df[col].method(value) instead, to perform the operation inplace on the original object.\n",
      "\n",
      "\n",
      "  teste['artists'].fillna('', inplace=True)\n",
      "C:\\Users\\leona\\AppData\\Local\\Temp\\ipykernel_21604\\1972323681.py:3: FutureWarning: A value is trying to be set on a copy of a DataFrame or Series through chained assignment using an inplace method.\n",
      "The behavior will change in pandas 3.0. This inplace method will never work because the intermediate object on which we are setting values always behaves as a copy.\n",
      "\n",
      "For example, when doing 'df[col].method(value, inplace=True)', try using 'df.method({col: value}, inplace=True)' or df[col] = df[col].method(value) instead, to perform the operation inplace on the original object.\n",
      "\n",
      "\n",
      "  teste['album_name'].fillna('', inplace=True)\n",
      "C:\\Users\\leona\\AppData\\Local\\Temp\\ipykernel_21604\\1972323681.py:4: FutureWarning: A value is trying to be set on a copy of a DataFrame or Series through chained assignment using an inplace method.\n",
      "The behavior will change in pandas 3.0. This inplace method will never work because the intermediate object on which we are setting values always behaves as a copy.\n",
      "\n",
      "For example, when doing 'df[col].method(value, inplace=True)', try using 'df.method({col: value}, inplace=True)' or df[col] = df[col].method(value) instead, to perform the operation inplace on the original object.\n",
      "\n",
      "\n",
      "  teste['track_name'].fillna('', inplace=True)\n"
     ]
    }
   ],
   "source": [
    "# Tratando valores nulos preenchendo com strings vazia para colunas categóricas\n",
    "teste['artists'].fillna('', inplace=True)\n",
    "teste['album_name'].fillna('', inplace=True)\n",
    "teste['track_name'].fillna('', inplace=True)"
   ]
  },
  {
   "cell_type": "markdown",
   "metadata": {},
   "source": [
    "### Codificação das variáveis categóricas"
   ]
  },
  {
   "cell_type": "code",
   "execution_count": 10,
   "metadata": {},
   "outputs": [],
   "source": [
    "# Codificando variáveis categóricas explicit e mode no dataset treino e teste\n",
    "treino['explicit'] = treino['explicit'].astype('category')\n",
    "treino['mode'] = treino['mode'].astype('category')\n",
    "\n",
    "teste['explicit'] = teste['explicit'].astype('category')\n",
    "teste['mode'] = teste['mode'].astype('category')\n",
    "\n",
    "#Convertendo explicit e mode para variáveis numéricas\n",
    "treino['explicit'] = treino['explicit'].cat.codes\n",
    "treino['mode'] = treino['mode'].cat.codes\n",
    "\n",
    "teste['explicit'] = teste['explicit'].cat.codes\n",
    "teste['mode'] = teste['mode'].cat.codes"
   ]
  },
  {
   "cell_type": "markdown",
   "metadata": {},
   "source": [
    "### Confirmação do tratamento"
   ]
  },
  {
   "cell_type": "code",
   "execution_count": 11,
   "metadata": {},
   "outputs": [
    {
     "data": {
      "text/html": [
       "<div>\n",
       "<style scoped>\n",
       "    .dataframe tbody tr th:only-of-type {\n",
       "        vertical-align: middle;\n",
       "    }\n",
       "\n",
       "    .dataframe tbody tr th {\n",
       "        vertical-align: top;\n",
       "    }\n",
       "\n",
       "    .dataframe thead th {\n",
       "        text-align: right;\n",
       "    }\n",
       "</style>\n",
       "<table border=\"1\" class=\"dataframe\">\n",
       "  <thead>\n",
       "    <tr style=\"text-align: right;\">\n",
       "      <th></th>\n",
       "      <th>explicit</th>\n",
       "      <th>mode</th>\n",
       "    </tr>\n",
       "  </thead>\n",
       "  <tbody>\n",
       "    <tr>\n",
       "      <th>0</th>\n",
       "      <td>0</td>\n",
       "      <td>1</td>\n",
       "    </tr>\n",
       "    <tr>\n",
       "      <th>1</th>\n",
       "      <td>0</td>\n",
       "      <td>0</td>\n",
       "    </tr>\n",
       "    <tr>\n",
       "      <th>2</th>\n",
       "      <td>0</td>\n",
       "      <td>1</td>\n",
       "    </tr>\n",
       "    <tr>\n",
       "      <th>3</th>\n",
       "      <td>0</td>\n",
       "      <td>1</td>\n",
       "    </tr>\n",
       "    <tr>\n",
       "      <th>4</th>\n",
       "      <td>0</td>\n",
       "      <td>1</td>\n",
       "    </tr>\n",
       "  </tbody>\n",
       "</table>\n",
       "</div>"
      ],
      "text/plain": [
       "   explicit  mode\n",
       "0         0     1\n",
       "1         0     0\n",
       "2         0     1\n",
       "3         0     1\n",
       "4         0     1"
      ]
     },
     "execution_count": 11,
     "metadata": {},
     "output_type": "execute_result"
    }
   ],
   "source": [
    "#Verificando a coficação no conjunto de treino\n",
    "treino[['explicit', 'mode']].head()"
   ]
  },
  {
   "cell_type": "code",
   "execution_count": 12,
   "metadata": {},
   "outputs": [
    {
     "data": {
      "text/html": [
       "<div>\n",
       "<style scoped>\n",
       "    .dataframe tbody tr th:only-of-type {\n",
       "        vertical-align: middle;\n",
       "    }\n",
       "\n",
       "    .dataframe tbody tr th {\n",
       "        vertical-align: top;\n",
       "    }\n",
       "\n",
       "    .dataframe thead th {\n",
       "        text-align: right;\n",
       "    }\n",
       "</style>\n",
       "<table border=\"1\" class=\"dataframe\">\n",
       "  <thead>\n",
       "    <tr style=\"text-align: right;\">\n",
       "      <th></th>\n",
       "      <th>explicit</th>\n",
       "      <th>mode</th>\n",
       "    </tr>\n",
       "  </thead>\n",
       "  <tbody>\n",
       "    <tr>\n",
       "      <th>0</th>\n",
       "      <td>0</td>\n",
       "      <td>1</td>\n",
       "    </tr>\n",
       "    <tr>\n",
       "      <th>1</th>\n",
       "      <td>0</td>\n",
       "      <td>1</td>\n",
       "    </tr>\n",
       "    <tr>\n",
       "      <th>2</th>\n",
       "      <td>0</td>\n",
       "      <td>0</td>\n",
       "    </tr>\n",
       "    <tr>\n",
       "      <th>3</th>\n",
       "      <td>0</td>\n",
       "      <td>1</td>\n",
       "    </tr>\n",
       "    <tr>\n",
       "      <th>4</th>\n",
       "      <td>0</td>\n",
       "      <td>0</td>\n",
       "    </tr>\n",
       "  </tbody>\n",
       "</table>\n",
       "</div>"
      ],
      "text/plain": [
       "   explicit  mode\n",
       "0         0     1\n",
       "1         0     1\n",
       "2         0     0\n",
       "3         0     1\n",
       "4         0     0"
      ]
     },
     "execution_count": 12,
     "metadata": {},
     "output_type": "execute_result"
    }
   ],
   "source": [
    "#Verificando a coficação no conjunto de teste\n",
    "teste[['explicit', 'mode']].head()"
   ]
  },
  {
   "cell_type": "markdown",
   "metadata": {},
   "source": [
    "### Normalização dos dados"
   ]
  },
  {
   "cell_type": "code",
   "execution_count": 13,
   "metadata": {},
   "outputs": [],
   "source": [
    "#Aplicar escalonaento nos dados numéricos\n",
    "scaler = StandardScaler()\n",
    "\n",
    "colunas_numericas = ['duration_ms', 'danceability', 'energy', 'loudness', 'speechiness', 'acousticness', 'instrumentalness', 'liveness', 'valence', 'tempo']\n",
    "\n",
    "treino[colunas_numericas] = scaler.fit_transform(treino[colunas_numericas])\n",
    "teste[colunas_numericas] = scaler.transform(teste[colunas_numericas])\n"
   ]
  },
  {
   "cell_type": "markdown",
   "metadata": {},
   "source": [
    "### Codificação das variáveis categóricas"
   ]
  },
  {
   "cell_type": "code",
   "execution_count": 14,
   "metadata": {},
   "outputs": [],
   "source": [
    "# Codificando variáveis categóricas explicit e mode no dataset treino e teste\n",
    "treino['track_genre'] = treino['track_genre'].astype('category').cat.codes\n",
    "teste['track_genre'] = teste['track_genre'].astype('category').cat.codes\n"
   ]
  },
  {
   "cell_type": "code",
   "execution_count": 15,
   "metadata": {},
   "outputs": [
    {
     "data": {
      "text/html": [
       "<div>\n",
       "<style scoped>\n",
       "    .dataframe tbody tr th:only-of-type {\n",
       "        vertical-align: middle;\n",
       "    }\n",
       "\n",
       "    .dataframe tbody tr th {\n",
       "        vertical-align: top;\n",
       "    }\n",
       "\n",
       "    .dataframe thead th {\n",
       "        text-align: right;\n",
       "    }\n",
       "</style>\n",
       "<table border=\"1\" class=\"dataframe\">\n",
       "  <thead>\n",
       "    <tr style=\"text-align: right;\">\n",
       "      <th></th>\n",
       "      <th>duration_ms</th>\n",
       "      <th>danceability</th>\n",
       "      <th>energy</th>\n",
       "      <th>loudness</th>\n",
       "      <th>speechiness</th>\n",
       "      <th>acousticness</th>\n",
       "      <th>instrumentalness</th>\n",
       "      <th>liveness</th>\n",
       "      <th>valence</th>\n",
       "      <th>tempo</th>\n",
       "      <th>track_genre</th>\n",
       "    </tr>\n",
       "  </thead>\n",
       "  <tbody>\n",
       "    <tr>\n",
       "      <th>0</th>\n",
       "      <td>-0.155809</td>\n",
       "      <td>-1.515338</td>\n",
       "      <td>0.825132</td>\n",
       "      <td>-0.502686</td>\n",
       "      <td>-0.282524</td>\n",
       "      <td>-0.947099</td>\n",
       "      <td>-0.323754</td>\n",
       "      <td>1.318896</td>\n",
       "      <td>-0.595605</td>\n",
       "      <td>0.658493</td>\n",
       "      <td>41</td>\n",
       "    </tr>\n",
       "    <tr>\n",
       "      <th>1</th>\n",
       "      <td>-0.303659</td>\n",
       "      <td>-1.619319</td>\n",
       "      <td>-1.795774</td>\n",
       "      <td>-0.747946</td>\n",
       "      <td>-0.451941</td>\n",
       "      <td>1.849631</td>\n",
       "      <td>-0.505047</td>\n",
       "      <td>-0.683485</td>\n",
       "      <td>-1.317590</td>\n",
       "      <td>-1.282208</td>\n",
       "      <td>76</td>\n",
       "    </tr>\n",
       "    <tr>\n",
       "      <th>2</th>\n",
       "      <td>-0.108474</td>\n",
       "      <td>0.090590</td>\n",
       "      <td>-0.527081</td>\n",
       "      <td>-0.277483</td>\n",
       "      <td>-0.459513</td>\n",
       "      <td>1.389495</td>\n",
       "      <td>0.143765</td>\n",
       "      <td>-0.517234</td>\n",
       "      <td>0.269232</td>\n",
       "      <td>-1.055969</td>\n",
       "      <td>54</td>\n",
       "    </tr>\n",
       "    <tr>\n",
       "      <th>3</th>\n",
       "      <td>-0.090960</td>\n",
       "      <td>-2.335633</td>\n",
       "      <td>-2.405065</td>\n",
       "      <td>-2.956080</td>\n",
       "      <td>-0.355402</td>\n",
       "      <td>2.033084</td>\n",
       "      <td>2.386439</td>\n",
       "      <td>-0.559323</td>\n",
       "      <td>-1.681671</td>\n",
       "      <td>-1.757899</td>\n",
       "      <td>16</td>\n",
       "    </tr>\n",
       "    <tr>\n",
       "      <th>4</th>\n",
       "      <td>-0.521060</td>\n",
       "      <td>0.460300</td>\n",
       "      <td>1.111483</td>\n",
       "      <td>0.192582</td>\n",
       "      <td>0.948829</td>\n",
       "      <td>-0.944450</td>\n",
       "      <td>0.687541</td>\n",
       "      <td>-0.433056</td>\n",
       "      <td>-1.170877</td>\n",
       "      <td>0.531179</td>\n",
       "      <td>109</td>\n",
       "    </tr>\n",
       "  </tbody>\n",
       "</table>\n",
       "</div>"
      ],
      "text/plain": [
       "   duration_ms  danceability    energy  loudness  speechiness  acousticness  \\\n",
       "0    -0.155809     -1.515338  0.825132 -0.502686    -0.282524     -0.947099   \n",
       "1    -0.303659     -1.619319 -1.795774 -0.747946    -0.451941      1.849631   \n",
       "2    -0.108474      0.090590 -0.527081 -0.277483    -0.459513      1.389495   \n",
       "3    -0.090960     -2.335633 -2.405065 -2.956080    -0.355402      2.033084   \n",
       "4    -0.521060      0.460300  1.111483  0.192582     0.948829     -0.944450   \n",
       "\n",
       "   instrumentalness  liveness   valence     tempo  track_genre  \n",
       "0         -0.323754  1.318896 -0.595605  0.658493           41  \n",
       "1         -0.505047 -0.683485 -1.317590 -1.282208           76  \n",
       "2          0.143765 -0.517234  0.269232 -1.055969           54  \n",
       "3          2.386439 -0.559323 -1.681671 -1.757899           16  \n",
       "4          0.687541 -0.433056 -1.170877  0.531179          109  "
      ]
     },
     "execution_count": 15,
     "metadata": {},
     "output_type": "execute_result"
    }
   ],
   "source": [
    "#Verificando a coficação no conjunto de treino\n",
    "treino[colunas_numericas + ['track_genre']].head()"
   ]
  },
  {
   "cell_type": "code",
   "execution_count": 16,
   "metadata": {},
   "outputs": [
    {
     "data": {
      "text/html": [
       "<div>\n",
       "<style scoped>\n",
       "    .dataframe tbody tr th:only-of-type {\n",
       "        vertical-align: middle;\n",
       "    }\n",
       "\n",
       "    .dataframe tbody tr th {\n",
       "        vertical-align: top;\n",
       "    }\n",
       "\n",
       "    .dataframe thead th {\n",
       "        text-align: right;\n",
       "    }\n",
       "</style>\n",
       "<table border=\"1\" class=\"dataframe\">\n",
       "  <thead>\n",
       "    <tr style=\"text-align: right;\">\n",
       "      <th></th>\n",
       "      <th>duration_ms</th>\n",
       "      <th>danceability</th>\n",
       "      <th>energy</th>\n",
       "      <th>loudness</th>\n",
       "      <th>speechiness</th>\n",
       "      <th>acousticness</th>\n",
       "      <th>instrumentalness</th>\n",
       "      <th>liveness</th>\n",
       "      <th>valence</th>\n",
       "      <th>tempo</th>\n",
       "      <th>track_genre</th>\n",
       "    </tr>\n",
       "  </thead>\n",
       "  <tbody>\n",
       "    <tr>\n",
       "      <th>0</th>\n",
       "      <td>2.021191</td>\n",
       "      <td>-1.145628</td>\n",
       "      <td>-0.173119</td>\n",
       "      <td>0.254145</td>\n",
       "      <td>-0.514408</td>\n",
       "      <td>-0.931906</td>\n",
       "      <td>-0.506192</td>\n",
       "      <td>-0.196306</td>\n",
       "      <td>-1.651170</td>\n",
       "      <td>0.866263</td>\n",
       "      <td>113</td>\n",
       "    </tr>\n",
       "    <tr>\n",
       "      <th>1</th>\n",
       "      <td>-1.275178</td>\n",
       "      <td>-2.289419</td>\n",
       "      <td>1.413742</td>\n",
       "      <td>0.928958</td>\n",
       "      <td>0.314696</td>\n",
       "      <td>-0.931606</td>\n",
       "      <td>2.071114</td>\n",
       "      <td>1.087407</td>\n",
       "      <td>-1.717577</td>\n",
       "      <td>0.004891</td>\n",
       "      <td>42</td>\n",
       "    </tr>\n",
       "    <tr>\n",
       "      <th>2</th>\n",
       "      <td>-0.136344</td>\n",
       "      <td>-2.277865</td>\n",
       "      <td>0.642185</td>\n",
       "      <td>-0.358906</td>\n",
       "      <td>0.560778</td>\n",
       "      <td>0.896277</td>\n",
       "      <td>-0.500047</td>\n",
       "      <td>-0.096344</td>\n",
       "      <td>-1.488627</td>\n",
       "      <td>-1.553435</td>\n",
       "      <td>59</td>\n",
       "    </tr>\n",
       "    <tr>\n",
       "      <th>3</th>\n",
       "      <td>-0.728305</td>\n",
       "      <td>0.668262</td>\n",
       "      <td>-0.519127</td>\n",
       "      <td>0.529392</td>\n",
       "      <td>-0.538070</td>\n",
       "      <td>0.273740</td>\n",
       "      <td>-0.505558</td>\n",
       "      <td>-0.538278</td>\n",
       "      <td>0.477719</td>\n",
       "      <td>-0.403636</td>\n",
       "      <td>90</td>\n",
       "    </tr>\n",
       "    <tr>\n",
       "      <th>4</th>\n",
       "      <td>0.079867</td>\n",
       "      <td>-0.071158</td>\n",
       "      <td>1.191024</td>\n",
       "      <td>0.986946</td>\n",
       "      <td>-0.346884</td>\n",
       "      <td>0.508320</td>\n",
       "      <td>-0.506192</td>\n",
       "      <td>0.277195</td>\n",
       "      <td>1.307809</td>\n",
       "      <td>-0.988237</td>\n",
       "      <td>61</td>\n",
       "    </tr>\n",
       "  </tbody>\n",
       "</table>\n",
       "</div>"
      ],
      "text/plain": [
       "   duration_ms  danceability    energy  loudness  speechiness  acousticness  \\\n",
       "0     2.021191     -1.145628 -0.173119  0.254145    -0.514408     -0.931906   \n",
       "1    -1.275178     -2.289419  1.413742  0.928958     0.314696     -0.931606   \n",
       "2    -0.136344     -2.277865  0.642185 -0.358906     0.560778      0.896277   \n",
       "3    -0.728305      0.668262 -0.519127  0.529392    -0.538070      0.273740   \n",
       "4     0.079867     -0.071158  1.191024  0.986946    -0.346884      0.508320   \n",
       "\n",
       "   instrumentalness  liveness   valence     tempo  track_genre  \n",
       "0         -0.506192 -0.196306 -1.651170  0.866263          113  \n",
       "1          2.071114  1.087407 -1.717577  0.004891           42  \n",
       "2         -0.500047 -0.096344 -1.488627 -1.553435           59  \n",
       "3         -0.505558 -0.538278  0.477719 -0.403636           90  \n",
       "4         -0.506192  0.277195  1.307809 -0.988237           61  "
      ]
     },
     "execution_count": 16,
     "metadata": {},
     "output_type": "execute_result"
    }
   ],
   "source": [
    "#Verificando a coficação no conjunto de teste\n",
    "teste[colunas_numericas + ['track_genre']].head()"
   ]
  },
  {
   "cell_type": "markdown",
   "metadata": {},
   "source": [
    "## Exploração dos dados"
   ]
  },
  {
   "cell_type": "code",
   "execution_count": 17,
   "metadata": {},
   "outputs": [
    {
     "data": {
      "image/png": "[encoded data removed]",
      "text/plain": [
       "<Figure size 900x600 with 2 Axes>"
      ]
     },
     "metadata": {},
     "output_type": "display_data"
    }
   ],
   "source": [
    "#Observando a correlação das variáveis para formulação de hipóteses\n",
    "corr_matrix = treino[colunas_numericas + ['popularity_target']].corr()\n",
    "\n",
    "# Exibir um heatmap das correlações\n",
    "plt.figure(figsize=(9, 6))\n",
    "sns.heatmap(corr_matrix, annot=True, cmap='coolwarm', fmt='.2f')\n",
    "plt.title('Correlação das variáveis')\n",
    "plt.show()\n"
   ]
  },
  {
   "cell_type": "markdown",
   "metadata": {},
   "source": [
    "# Hipóteses"
   ]
  },
  {
   "cell_type": "markdown",
   "metadata": {},
   "source": [
    "Primeira Hipótese: Gêneros influenciam na popularidade da música \n",
    "\n",
    "Justificativa: Existem certos gêneros que tendem a fazer mais sucesso"
   ]
  },
  {
   "cell_type": "code",
   "execution_count": 18,
   "metadata": {},
   "outputs": [
    {
     "data": {
      "image/png": "[encoded data removed]",
      "text/plain": [
       "<Figure size 1000x600 with 1 Axes>"
      ]
     },
     "metadata": {},
     "output_type": "display_data"
    }
   ],
   "source": [
    "genre_popularity = treino.groupby('track_genre')['popularity_target'].mean().sort_values(ascending=False)\n",
    "\n",
    "# Selecionando os 20 gêneros de música mais populares\n",
    "top_20_genres = genre_popularity.head(20)\n",
    "\n",
    "# Plotando os 20 gêneros mais populares e suas popularidades\n",
    "plt.figure(figsize=(10, 6))\n",
    "top_20_genres.plot(kind='bar', color='orange')\n",
    "\n",
    "# Adicionando título e legendas\n",
    "plt.title('Top 20 gêneros mais populares', fontsize=14)\n",
    "plt.xlabel('Gênero Musical', fontsize=12)\n",
    "plt.ylabel('Popularidade Média', fontsize=12)\n",
    "\n",
    "# Rotacionando eixo x\n",
    "plt.xticks(rotation=45)\n",
    "\n",
    "# Plotando gráfico\n",
    "plt.tight_layout()\n",
    "plt.show()"
   ]
  },
  {
   "cell_type": "markdown",
   "metadata": {},
   "source": [
    "Esse gráfico mostra que existem gêneros mais populares e que músicas desse gêneros, portanto, possuem uma maior possibilidade de fazerem sucesso."
   ]
  },
  {
   "cell_type": "markdown",
   "metadata": {},
   "source": [
    "Segunda Hipótese: Músicas com maior volume fazem mais sucesso \n",
    "\n",
    "Justificativa: Músicas com maior volume geralmente são músicas mais voltadas para o público portanto tendem a fazer mais sucesso"
   ]
  },
  {
   "cell_type": "code",
   "execution_count": 19,
   "metadata": {},
   "outputs": [
    {
     "data": {
      "image/png": "[encoded data removed]",
      "text/plain": [
       "<Figure size 800x600 with 1 Axes>"
      ]
     },
     "metadata": {},
     "output_type": "display_data"
    }
   ],
   "source": [
    "# Filtrando músicas populares (definindo como popular aquelas com popularidade maior que uma certa nota, por exemplo 1)\n",
    "musicas_populares = treino[treino['popularity_target'] == 1]\n",
    "\n",
    "# Criando um histograma para volume (loudness) das músicas populares\n",
    "plt.figure(figsize=(8, 6))\n",
    "plt.hist(musicas_populares['loudness'], bins=20, color='green', edgecolor='black')\n",
    "\n",
    "# Adicionando título e rótulos\n",
    "plt.title('Quantidade de Músicas Populares por Intervalo de Volume', fontsize=14)\n",
    "plt.xlabel('Volume (dB)', fontsize=12)\n",
    "plt.ylabel('Quantidade de Músicas', fontsize=12)\n",
    "\n",
    "# Exibindo o gráfico\n",
    "plt.tight_layout()\n",
    "plt.show()"
   ]
  },
  {
   "cell_type": "markdown",
   "metadata": {},
   "source": [
    "Esse gráfico demonstra que a maior parte das músicas populares são as de maior volume no gráfico"
   ]
  },
  {
   "cell_type": "markdown",
   "metadata": {},
   "source": [
    "Terceira Hipótese: Músicas mais energéticas tendem a ser mais sucesso\n",
    "\n",
    "Justificativa: Músicas mais energéticas são comumente produzidas para serem tocadas em festas o que as da uma maior chance de se tornarem populares"
   ]
  },
  {
   "cell_type": "code",
   "execution_count": 20,
   "metadata": {},
   "outputs": [
    {
     "data": {
      "image/png": "[encoded data removed]",
      "text/plain": [
       "<Figure size 800x600 with 1 Axes>"
      ]
     },
     "metadata": {},
     "output_type": "display_data"
    }
   ],
   "source": [
    "# Filtrando músicas populares (definindo como populares aquelas com popularidade maior que uma certa nota, por exemplo, 1)\n",
    "musicas_populares = treino[treino['popularity_target'] == 1]\n",
    "\n",
    "# Criando um histograma para a energia das músicas populares\n",
    "plt.figure(figsize=(8, 6))\n",
    "plt.hist(musicas_populares['energy'], bins=20, color='orange', edgecolor='black')\n",
    "\n",
    "# Adicionando título e rótulos\n",
    "plt.title('Quantidade de Músicas Populares por Intervalo de Energia', fontsize=14)\n",
    "plt.xlabel('Energia', fontsize=12)\n",
    "plt.ylabel('Quantidade de Músicas', fontsize=12)\n",
    "\n",
    "# Exibindo o gráfico\n",
    "plt.tight_layout()\n",
    "plt.show()"
   ]
  },
  {
   "cell_type": "markdown",
   "metadata": {},
   "source": [
    "Esse gráfico demonstra que a maior parte das músicas populares são as de maior energia "
   ]
  },
  {
   "cell_type": "markdown",
   "metadata": {},
   "source": [
    "## Seleção de features"
   ]
  },
  {
   "cell_type": "code",
   "execution_count": 21,
   "metadata": {},
   "outputs": [],
   "source": [
    "#Separando as features e o alvo\n",
    "X = treino.drop(columns=['popularity_target', 'track_unique_id', 'track_id', 'artists', 'album_name', 'track_name'])\n",
    "y= treino['popularity_target']"
   ]
  },
  {
   "cell_type": "markdown",
   "metadata": {},
   "source": [
    "## Construção e Avaliação do Modelo"
   ]
  },
  {
   "cell_type": "code",
   "execution_count": 22,
   "metadata": {},
   "outputs": [],
   "source": [
    "#instaciando o modelo\n",
    "xgb_model = xgb.XGBClassifier(use_label_encoder=False, eval_metric='mlogloss')"
   ]
  },
  {
   "cell_type": "code",
   "execution_count": 23,
   "metadata": {},
   "outputs": [],
   "source": [
    "# Dividindo treino e validação\n",
    "X_train, X_val, y_train, y_val = train_test_split(X, y, test_size=0.2, random_state=42)"
   ]
  },
  {
   "cell_type": "code",
   "execution_count": 24,
   "metadata": {},
   "outputs": [],
   "source": [
    "# Convertendo os dados para o formato DMatrix do XGBoost\n",
    "dados_treino = xgb.DMatrix(X_train, label=y_train)\n",
    "dados_teste = xgb.DMatrix(X_val, label=y_val)"
   ]
  },
  {
   "cell_type": "code",
   "execution_count": 25,
   "metadata": {},
   "outputs": [],
   "source": [
    "# Definindo os parâmetros do XGBoost\n",
    "params = {\n",
    "    'objective': 'multi:softmax',  # Multiclass classification\n",
    "    'num_class': 3,  # Número de classes\n",
    "    'max_depth': 15,  # Profundidade da árvore\n",
    "    'eta': 0.3,  # Taxa de aprendizado\n",
    "    'eval_metric': 'mlogloss'  # Métrica de avaliação\n",
    "}"
   ]
  },
  {
   "cell_type": "code",
   "execution_count": 26,
   "metadata": {},
   "outputs": [
    {
     "name": "stdout",
     "output_type": "stream",
     "text": [
      "Acurácia: 83.21%\n"
     ]
    }
   ],
   "source": [
    "# Treinando o modelo\n",
    "model = xgb.train(params, dados_treino, num_boost_round=100)\n",
    "\n",
    "# Fazendo previsões\n",
    "previsoes = model.predict(dados_teste)\n",
    "\n",
    "# Avaliando o modelo\n",
    "accuracy = accuracy_score(y_val, previsoes)\n",
    "print(f'Acurácia: {accuracy * 100:.2f}%')"
   ]
  },
  {
   "cell_type": "code",
   "execution_count": 27,
   "metadata": {},
   "outputs": [
    {
     "name": "stdout",
     "output_type": "stream",
     "text": [
      "              precision    recall  f1-score   support\n",
      "\n",
      "           0       0.84      0.83      0.84      8247\n",
      "           1       0.82      0.83      0.83      7713\n",
      "\n",
      "    accuracy                           0.83     15960\n",
      "   macro avg       0.83      0.83      0.83     15960\n",
      "weighted avg       0.83      0.83      0.83     15960\n",
      "\n"
     ]
    }
   ],
   "source": [
    "#Relatório de desempenho\n",
    "print(classification_report(y_val, previsoes))"
   ]
  },
  {
   "cell_type": "code",
   "execution_count": 28,
   "metadata": {},
   "outputs": [],
   "source": [
    "# Fazendo previsões com conjunto de teste\n",
    "X_teste = teste.drop(columns=['track_unique_id', 'track_id', 'artists', 'album_name', 'track_name'])\n",
    "# Convertendo os dados para o formato DMatrix do XGBoost\n",
    "dteste = xgb.DMatrix(X_teste)\n",
    "\n",
    "previsoes_teste = model.predict(dteste)\n",
    "\n",
    "# Gerar arquivo CSV para submissão\n",
    "submission = teste[['track_unique_id']].copy()\n",
    "submission['popularity_target'] = previsoes_teste\n",
    "submission.to_csv('submission.csv', index=False)"
   ]
  },
  {
   "cell_type": "markdown",
   "metadata": {},
   "source": [
    "## Finetuning de Hiperparâmetros"
   ]
  },
  {
   "cell_type": "code",
   "execution_count": 29,
   "metadata": {},
   "outputs": [
    {
     "name": "stderr",
     "output_type": "stream",
     "text": [
      "c:\\Users\\leona\\AppData\\Local\\Programs\\Python\\Python312\\Lib\\site-packages\\xgboost\\core.py:158: UserWarning: [20:56:03] WARNING: C:\\buildkite-agent\\builds\\buildkite-windows-cpu-autoscaling-group-i-0015a694724fa8361-1\\xgboost\\xgboost-ci-windows\\src\\learner.cc:740: \n",
      "Parameters: { \"use_label_encoder\" } are not used.\n",
      "\n",
      "  warnings.warn(smsg, UserWarning)\n",
      "c:\\Users\\leona\\AppData\\Local\\Programs\\Python\\Python312\\Lib\\site-packages\\xgboost\\core.py:158: UserWarning: [20:56:03] WARNING: C:\\buildkite-agent\\builds\\buildkite-windows-cpu-autoscaling-group-i-0015a694724fa8361-1\\xgboost\\xgboost-ci-windows\\src\\learner.cc:740: \n",
      "Parameters: { \"use_label_encoder\" } are not used.\n",
      "\n",
      "  warnings.warn(smsg, UserWarning)\n",
      "c:\\Users\\leona\\AppData\\Local\\Programs\\Python\\Python312\\Lib\\site-packages\\xgboost\\core.py:158: UserWarning: [20:56:04] WARNING: C:\\buildkite-agent\\builds\\buildkite-windows-cpu-autoscaling-group-i-0015a694724fa8361-1\\xgboost\\xgboost-ci-windows\\src\\learner.cc:740: \n",
      "Parameters: { \"use_label_encoder\" } are not used.\n",
      "\n",
      "  warnings.warn(smsg, UserWarning)\n",
      "c:\\Users\\leona\\AppData\\Local\\Programs\\Python\\Python312\\Lib\\site-packages\\xgboost\\core.py:158: UserWarning: [20:56:05] WARNING: C:\\buildkite-agent\\builds\\buildkite-windows-cpu-autoscaling-group-i-0015a694724fa8361-1\\xgboost\\xgboost-ci-windows\\src\\learner.cc:740: \n",
      "Parameters: { \"use_label_encoder\" } are not used.\n",
      "\n",
      "  warnings.warn(smsg, UserWarning)\n",
      "c:\\Users\\leona\\AppData\\Local\\Programs\\Python\\Python312\\Lib\\site-packages\\xgboost\\core.py:158: UserWarning: [20:56:06] WARNING: C:\\buildkite-agent\\builds\\buildkite-windows-cpu-autoscaling-group-i-0015a694724fa8361-1\\xgboost\\xgboost-ci-windows\\src\\learner.cc:740: \n",
      "Parameters: { \"use_label_encoder\" } are not used.\n",
      "\n",
      "  warnings.warn(smsg, UserWarning)\n",
      "c:\\Users\\leona\\AppData\\Local\\Programs\\Python\\Python312\\Lib\\site-packages\\xgboost\\core.py:158: UserWarning: [20:56:06] WARNING: C:\\buildkite-agent\\builds\\buildkite-windows-cpu-autoscaling-group-i-0015a694724fa8361-1\\xgboost\\xgboost-ci-windows\\src\\learner.cc:740: \n",
      "Parameters: { \"use_label_encoder\" } are not used.\n",
      "\n",
      "  warnings.warn(smsg, UserWarning)\n",
      "c:\\Users\\leona\\AppData\\Local\\Programs\\Python\\Python312\\Lib\\site-packages\\xgboost\\core.py:158: UserWarning: [20:56:08] WARNING: C:\\buildkite-agent\\builds\\buildkite-windows-cpu-autoscaling-group-i-0015a694724fa8361-1\\xgboost\\xgboost-ci-windows\\src\\learner.cc:740: \n",
      "Parameters: { \"use_label_encoder\" } are not used.\n",
      "\n",
      "  warnings.warn(smsg, UserWarning)\n",
      "c:\\Users\\leona\\AppData\\Local\\Programs\\Python\\Python312\\Lib\\site-packages\\xgboost\\core.py:158: UserWarning: [20:56:09] WARNING: C:\\buildkite-agent\\builds\\buildkite-windows-cpu-autoscaling-group-i-0015a694724fa8361-1\\xgboost\\xgboost-ci-windows\\src\\learner.cc:740: \n",
      "Parameters: { \"use_label_encoder\" } are not used.\n",
      "\n",
      "  warnings.warn(smsg, UserWarning)\n",
      "c:\\Users\\leona\\AppData\\Local\\Programs\\Python\\Python312\\Lib\\site-packages\\xgboost\\core.py:158: UserWarning: [20:56:10] WARNING: C:\\buildkite-agent\\builds\\buildkite-windows-cpu-autoscaling-group-i-0015a694724fa8361-1\\xgboost\\xgboost-ci-windows\\src\\learner.cc:740: \n",
      "Parameters: { \"use_label_encoder\" } are not used.\n",
      "\n",
      "  warnings.warn(smsg, UserWarning)\n",
      "c:\\Users\\leona\\AppData\\Local\\Programs\\Python\\Python312\\Lib\\site-packages\\xgboost\\core.py:158: UserWarning: [20:56:12] WARNING: C:\\buildkite-agent\\builds\\buildkite-windows-cpu-autoscaling-group-i-0015a694724fa8361-1\\xgboost\\xgboost-ci-windows\\src\\learner.cc:740: \n",
      "Parameters: { \"use_label_encoder\" } are not used.\n",
      "\n",
      "  warnings.warn(smsg, UserWarning)\n"
     ]
    }
   ],
   "source": [
    "param_grid = {\n",
    "    'n_estimators': [100, 200],\n",
    "    'max_depth': [10, 20, None]\n",
    "}\n",
    "\n",
    "grid_search = GridSearchCV(xgb_model, param_grid, cv=5, scoring='accuracy')\n",
    "grid_search.fit(X_train, y_train)\n",
    "\n",
    "print(f'Melhores parâmetros: {grid_search.best_params_}')"
   ]
  },
  {
   "cell_type": "markdown",
   "metadata": {},
   "source": [
    "## Métricas do modelo"
   ]
  },
  {
   "cell_type": "code",
   "execution_count": null,
   "metadata": {},
   "outputs": [],
   "source": [
    "# Previsões no conjunto de validação usando o melhor modelo encontrado\n",
    "best_model = grid_search.best_estimator_\n",
    "y_pred = best_model.predict(X_val)\n",
    "\n",
    "# Calcular a acurácia\n",
    "accuracy = accuracy_score(y_val, y_pred)\n",
    "print(f'Acurácia com o modelo otimizado: {accuracy:.2f}')\n",
    "\n",
    "# Exibir outras métricas de avaliação\n",
    "print(\"Relatório de Classificação:\\n\", classification_report(y_val, y_pred))"
   ]
  }
 ],
 "metadata": {
  "kernelspec": {
   "display_name": "Python 3",
   "language": "python",
   "name": "python3"
  },
  "language_info": {
   "codemirror_mode": {
    "name": "ipython",
    "version": 3
   },
   "file_extension": ".py",
   "mimetype": "text/x-python",
   "name": "python",
   "nbconvert_exporter": "python",
   "pygments_lexer": "ipython3",
   "version": "3.12.4"
  }
 },
 "nbformat": 4,
 "nbformat_minor": 2
}
